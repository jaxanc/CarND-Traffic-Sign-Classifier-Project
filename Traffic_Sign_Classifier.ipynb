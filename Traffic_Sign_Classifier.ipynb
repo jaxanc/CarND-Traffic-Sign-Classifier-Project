{
 "cells": [
  {
   "cell_type": "markdown",
   "metadata": {
    "deletable": true,
    "editable": true
   },
   "source": [
    "# Self-Driving Car Engineer Nanodegree\n",
    "\n",
    "## Deep Learning\n",
    "\n",
    "## Project: Build a Traffic Sign Recognition Classifier\n",
    "\n",
    "In this notebook, a template is provided for you to implement your functionality in stages, which is required to successfully complete this project. If additional code is required that cannot be included in the notebook, be sure that the Python code is successfully imported and included in your submission if necessary. \n",
    "\n",
    "> **Note**: Once you have completed all of the code implementations, you need to finalize your work by exporting the iPython Notebook as an HTML document. Before exporting the notebook to html, all of the code cells need to have been run so that reviewers can see the final implementation and output. You can then export the notebook by using the menu above and navigating to  \\n\",\n",
    "    \"**File -> Download as -> HTML (.html)**. Include the finished document along with this notebook as your submission. \n",
    "\n",
    "In addition to implementing code, there is a writeup to complete. The writeup should be completed in a separate file, which can be either a markdown file or a pdf document. There is a [write up template](https://github.com/udacity/CarND-Traffic-Sign-Classifier-Project/blob/master/writeup_template.md) that can be used to guide the writing process. Completing the code template and writeup template will cover all of the [rubric points](https://review.udacity.com/#!/rubrics/481/view) for this project.\n",
    "\n",
    "The [rubric](https://review.udacity.com/#!/rubrics/481/view) contains \"Stand Out Suggestions\" for enhancing the project beyond the minimum requirements. The stand out suggestions are optional. If you decide to pursue the \"stand out suggestions\", you can include the code in this Ipython notebook and also discuss the results in the writeup file.\n",
    "\n",
    "\n",
    ">**Note:** Code and Markdown cells can be executed using the **Shift + Enter** keyboard shortcut. In addition, Markdown cells can be edited by typically double-clicking the cell to enter edit mode."
   ]
  },
  {
   "cell_type": "markdown",
   "metadata": {
    "deletable": true,
    "editable": true
   },
   "source": [
    "# Import Libraries"
   ]
  },
  {
   "cell_type": "code",
   "execution_count": 1,
   "metadata": {
    "collapsed": true,
    "deletable": true,
    "editable": true
   },
   "outputs": [],
   "source": [
    "import os\n",
    "import pickle\n",
    "import random\n",
    "import numpy as np\n",
    "import matplotlib.pyplot as plt\n",
    "import math\n",
    "import matplotlib.image as mpimg\n",
    "import cv2\n",
    "import tensorflow as tf\n",
    "from sklearn.utils import shuffle\n",
    "from tensorflow.contrib.layers import flatten\n",
    "from scipy import misc\n",
    "import glob"
   ]
  },
  {
   "cell_type": "markdown",
   "metadata": {
    "deletable": true,
    "editable": true
   },
   "source": [
    "---\n",
    "## Step 0: Load The Data"
   ]
  },
  {
   "cell_type": "code",
   "execution_count": 2,
   "metadata": {
    "collapsed": false,
    "deletable": true,
    "editable": true
   },
   "outputs": [],
   "source": [
    "# Load pickled data\n",
    "# TODO: Fill this in based on where you saved the training and testing data\n",
    "script_dir = os.path.dirname('__file__') # absolute dir the script is in\n",
    "training_file = os.path.join(script_dir, \"traffic-signs-data/train.p\")\n",
    "validation_file= os.path.join(script_dir, \"traffic-signs-data/valid.p\")\n",
    "testing_file = os.path.join(script_dir, \"traffic-signs-data/test.p\")\n",
    "\n",
    "with open(training_file, mode='rb') as f:\n",
    "    train = pickle.load(f)\n",
    "with open(validation_file, mode='rb') as f:\n",
    "    valid = pickle.load(f)\n",
    "with open(testing_file, mode='rb') as f:\n",
    "    test = pickle.load(f)\n",
    "    \n",
    "X_train, y_train = train['features'], train['labels']\n",
    "X_validation, y_validation = valid['features'], valid['labels']\n",
    "X_test, y_test = test['features'], test['labels']"
   ]
  },
  {
   "cell_type": "markdown",
   "metadata": {
    "deletable": true,
    "editable": true
   },
   "source": [
    "---\n",
    "\n",
    "## Step 1: Dataset Summary & Exploration\n",
    "\n",
    "The pickled data is a dictionary with 4 key/value pairs:\n",
    "\n",
    "- `'features'` is a 4D array containing raw pixel data of the traffic sign images, (num examples, width, height, channels).\n",
    "- `'labels'` is a 1D array containing the label/class id of the traffic sign. The file `signnames.csv` contains id -> name mappings for each id.\n",
    "- `'sizes'` is a list containing tuples, (width, height) representing the original width and height the image.\n",
    "- `'coords'` is a list containing tuples, (x1, y1, x2, y2) representing coordinates of a bounding box around the sign in the image. **THESE COORDINATES ASSUME THE ORIGINAL IMAGE. THE PICKLED DATA CONTAINS RESIZED VERSIONS (32 by 32) OF THESE IMAGES**\n",
    "\n",
    "Complete the basic data summary below. Use python, numpy and/or pandas methods to calculate the data summary rather than hard coding the results. For example, the [pandas shape method](http://pandas.pydata.org/pandas-docs/stable/generated/pandas.DataFrame.shape.html) might be useful for calculating some of the summary results. "
   ]
  },
  {
   "cell_type": "markdown",
   "metadata": {
    "deletable": true,
    "editable": true
   },
   "source": [
    "### Provide a Basic Summary of the Data Set Using Python, Numpy and/or Pandas"
   ]
  },
  {
   "cell_type": "code",
   "execution_count": 3,
   "metadata": {
    "collapsed": false,
    "deletable": true,
    "editable": true
   },
   "outputs": [
    {
     "name": "stdout",
     "output_type": "stream",
     "text": [
      "Number of training examples = 34799\n",
      "Number of testing examples = 12630\n",
      "Number of validation examples = 4410\n",
      "Image data shape = (32, 32, 3)\n",
      "Number of classes = 43\n"
     ]
    }
   ],
   "source": [
    "### Replace each question mark with the appropriate value. \n",
    "### Use python, pandas or numpy methods rather than hard coding the results\n",
    "\n",
    "# TODO: Number of training examples\n",
    "n_train = len(X_train)\n",
    "\n",
    "# TODO: Number of testing examples.\n",
    "n_test = len(X_test)\n",
    "\n",
    "# TODO: Number of testing examples.\n",
    "n_validation = len(X_validation)\n",
    "\n",
    "# TODO: What's the shape of an traffic sign image?\n",
    "image_shape = X_train[0].shape\n",
    "\n",
    "# TODO: How many unique classes/labels there are in the dataset.\n",
    "n_classes = np.unique(y_train).size\n",
    "\n",
    "print(\"Number of training examples =\", n_train)\n",
    "print(\"Number of testing examples =\", n_test)\n",
    "print(\"Number of validation examples =\", n_validation)\n",
    "print(\"Image data shape =\", image_shape)\n",
    "print(\"Number of classes =\", n_classes)"
   ]
  },
  {
   "cell_type": "markdown",
   "metadata": {
    "deletable": true,
    "editable": true
   },
   "source": [
    "### Include an exploratory visualization of the dataset"
   ]
  },
  {
   "cell_type": "markdown",
   "metadata": {
    "deletable": true,
    "editable": true
   },
   "source": [
    "Visualize the German Traffic Signs Dataset using the pickled file(s). This is open ended, suggestions include: plotting traffic sign images, plotting the count of each sign, etc.\n",
    "\n",
    "The [Matplotlib](http://matplotlib.org/) [examples](http://matplotlib.org/examples/index.html) and [gallery](http://matplotlib.org/gallery.html) pages are a great resource for doing visualizations in Python.\n",
    "\n",
    "**NOTE:** It's recommended you start with something simple first. If you wish to do more, come back to it after you've completed the rest of the sections."
   ]
  },
  {
   "cell_type": "code",
   "execution_count": 4,
   "metadata": {
    "collapsed": false,
    "deletable": true,
    "editable": true,
    "scrolled": true
   },
   "outputs": [
    {
     "data": {
      "image/png": "[encoded data removed]",
      "text/plain": [
       "<matplotlib.figure.Figure at 0x1e198023be0>"
      ]
     },
     "metadata": {},
     "output_type": "display_data"
    }
   ],
   "source": [
    "### Data exploration visualization code goes here.\n",
    "### Feel free to use as many code cells as needed.\n",
    "\n",
    "# Visualizations will be shown in the notebook.\n",
    "%matplotlib inline\n",
    "\n",
    "index = random.randint(0, len(X_train))\n",
    "image = X_train[index].squeeze()\n",
    "\n",
    "# show image of 10 random data points\n",
    "fig, axs = plt.subplots(2,5, figsize=(15, 6))\n",
    "fig.subplots_adjust(hspace = .2, wspace=.001)\n",
    "axs = axs.ravel()\n",
    "for i in range(10):\n",
    "    index = random.randint(0, len(X_train))\n",
    "    image = X_train[index]\n",
    "    axs[i].imshow(image)\n",
    "    axs[i].set_title(y_train[index])"
   ]
  },
  {
   "cell_type": "markdown",
   "metadata": {
    "deletable": true,
    "editable": true
   },
   "source": [
    "### Plot number of samples in classes"
   ]
  },
  {
   "cell_type": "markdown",
   "metadata": {},
   "source": [
    "Compare the number of samples for each class"
   ]
  },
  {
   "cell_type": "code",
   "execution_count": 5,
   "metadata": {
    "collapsed": false,
    "deletable": true,
    "editable": true,
    "scrolled": false
   },
   "outputs": [
    {
     "name": "stdout",
     "output_type": "stream",
     "text": [
      "[180, 1980, 2010, 1260, 1770, 1650, 360, 1290, 1260, 1320, 1800, 1170, 1890, 1920, 690, 540, 360, 990, 1080, 180, 300, 270, 330, 450, 240, 1350, 540, 210, 480, 240, 390, 690, 210, 599, 360, 1080, 330, 180, 1860, 270, 300, 210, 210]\n"
     ]
    },
    {
     "data": {
      "image/png": "[encoded data removed]",
      "text/plain": [
       "<matplotlib.figure.Figure at 0x1e19aee0dd8>"
      ]
     },
     "metadata": {},
     "output_type": "display_data"
    }
   ],
   "source": [
    "sign_count = [y_train.tolist().count(y) for y in range(n_classes)]\n",
    "\n",
    "plt.bar(range(n_classes), sign_count, width=0.8, align='center')\n",
    "plt.xlabel('Classes')\n",
    "plt.ylabel('Counts')\n",
    "\n",
    "print(sign_count)"
   ]
  },
  {
   "cell_type": "markdown",
   "metadata": {
    "deletable": true,
    "editable": true
   },
   "source": [
    "### Image Transform"
   ]
  },
  {
   "cell_type": "markdown",
   "metadata": {
    "deletable": true,
    "editable": true
   },
   "source": [
    "It is clear from the bar graph above that some classes have way more counts than the others. The next step is to add modified/transformed data to classes with low count"
   ]
  },
  {
   "cell_type": "code",
   "execution_count": 6,
   "metadata": {
    "collapsed": false,
    "deletable": true,
    "editable": true
   },
   "outputs": [],
   "source": [
    "def RandomImageTransformation(image, angle_range, translation_range):\n",
    "    rows,cols,ch = image.shape\n",
    "    \n",
    "    # Rotation\n",
    "    angle = np.random.randint(-angle_range, high=angle_range, size=1)\n",
    "    rotationMatrix = cv2.getRotationMatrix2D((cols/2,rows/2), angle, 1)\n",
    "    \n",
    "    # Translation\n",
    "    translation = np.random.randint(-translation_range, high=translation_range, size=2)\n",
    "    translationMatrix = np.float32([[1,0,translation[0]],[0,1,translation[1]]])\n",
    "    \n",
    "    # Apply transformation\n",
    "    image = cv2.warpAffine(image,rotationMatrix,(cols,rows))\n",
    "    image = cv2.warpAffine(image,translationMatrix,(cols,rows))\n",
    "    \n",
    "    return image"
   ]
  },
  {
   "cell_type": "code",
   "execution_count": 7,
   "metadata": {
    "collapsed": false,
    "deletable": true,
    "editable": true,
    "scrolled": false
   },
   "outputs": [
    {
     "name": "stdout",
     "output_type": "stream",
     "text": [
      "(34799, 32, 32, 3)\n",
      "(51448, 32, 32, 3)\n",
      "(51448,)\n",
      "210\n"
     ]
    }
   ],
   "source": [
    "# minimum number of counts\n",
    "minNumOfCounts = 800\n",
    "\n",
    "X_transformedTrain = X_train\n",
    "Y_transformedTrain = y_train\n",
    "\n",
    "for currentClass in range(len(sign_count)):\n",
    "    if (sign_count[currentClass] < minNumOfCounts):\n",
    "        # extract data from only 1 class\n",
    "        X_subTrain = X_train[np.where(y_train == currentClass)]\n",
    "\n",
    "        # determine the number of (sets of) transformation required to meet minimum count\n",
    "        # minus 1 to exclude original set\n",
    "        sets = math.ceil(minNumOfCounts / len(X_subTrain)) - 1\n",
    "\n",
    "        X_temp = []\n",
    "        Y_temp = []\n",
    "\n",
    "        for i in range(sets):\n",
    "            for image in X_subTrain:\n",
    "                X_subTrain\n",
    "                X_temp.append(RandomImageTransformation(image, 10, 2))\n",
    "                Y_temp.append(currentClass)\n",
    "\n",
    "        X_transformedTrain = np.concatenate((X_transformedTrain, X_temp), axis = 0)\n",
    "        Y_transformedTrain = np.concatenate((Y_transformedTrain, Y_temp), axis = 0)\n",
    "\n",
    "print(X_train.shape)\n",
    "print(X_transformedTrain.shape)\n",
    "print(Y_transformedTrain.shape)\n",
    "print(len(X_subTrain))\n",
    "    "
   ]
  },
  {
   "cell_type": "markdown",
   "metadata": {},
   "source": [
    "### Visualise transformed dataset"
   ]
  },
  {
   "cell_type": "code",
   "execution_count": 8,
   "metadata": {
    "collapsed": false,
    "deletable": true,
    "editable": true
   },
   "outputs": [
    {
     "name": "stdout",
     "output_type": "stream",
     "text": [
      "[900, 1980, 2010, 1260, 1770, 1650, 1080, 1290, 1260, 1320, 1800, 1170, 1890, 1920, 1380, 1080, 1080, 990, 1080, 900, 900, 810, 990, 900, 960, 1350, 1080, 840, 960, 960, 1170, 1380, 840, 1198, 1080, 1080, 990, 900, 1860, 810, 900, 840, 840]\n"
     ]
    },
    {
     "data": {
      "image/png": "[encoded data removed]",
      "text/plain": [
       "<matplotlib.figure.Figure at 0x1e19a7e5358>"
      ]
     },
     "metadata": {},
     "output_type": "display_data"
    }
   ],
   "source": [
    "sign_count_transformed = [Y_transformedTrain.tolist().count(y) for y in range(n_classes)]\n",
    "\n",
    "plt.bar(range(n_classes), sign_count_transformed, width=0.8, align='center')\n",
    "plt.xlabel('Classes')\n",
    "plt.ylabel('Counts')\n",
    "\n",
    "print(sign_count_transformed)"
   ]
  },
  {
   "cell_type": "markdown",
   "metadata": {
    "deletable": true,
    "editable": true
   },
   "source": [
    "----\n",
    "\n",
    "## Step 2: Design and Test a Model Architecture\n",
    "\n",
    "Design and implement a deep learning model that learns to recognize traffic signs. Train and test your model on the [German Traffic Sign Dataset](http://benchmark.ini.rub.de/?section=gtsrb&subsection=dataset).\n",
    "\n",
    "The LeNet-5 implementation shown in the [classroom](https://classroom.udacity.com/nanodegrees/nd013/parts/fbf77062-5703-404e-b60c-95b78b2f3f9e/modules/6df7ae49-c61c-4bb2-a23e-6527e69209ec/lessons/601ae704-1035-4287-8b11-e2c2716217ad/concepts/d4aca031-508f-4e0b-b493-e7b706120f81) at the end of the CNN lesson is a solid starting point. You'll have to change the number of classes and possibly the preprocessing, but aside from that it's plug and play! \n",
    "\n",
    "With the LeNet-5 solution from the lecture, you should expect a validation set accuracy of about 0.89. To meet specifications, the validation set accuracy will need to be at least 0.93. It is possible to get an even higher accuracy, but 0.93 is the minimum for a successful project submission. \n",
    "\n",
    "There are various aspects to consider when thinking about this problem:\n",
    "\n",
    "- Neural network architecture (is the network over or underfitting?)\n",
    "- Play around preprocessing techniques (normalization, rgb to grayscale, etc)\n",
    "- Number of examples per label (some have more than others).\n",
    "- Generate fake data.\n",
    "\n",
    "Here is an example of a [published baseline model on this problem](http://yann.lecun.com/exdb/publis/pdf/sermanet-ijcnn-11.pdf). It's not required to be familiar with the approach used in the paper but, it's good practice to try to read papers like these."
   ]
  },
  {
   "cell_type": "markdown",
   "metadata": {
    "deletable": true,
    "editable": true
   },
   "source": [
    "### Pre-process the Data Set (normalization, grayscale, etc.)"
   ]
  },
  {
   "cell_type": "markdown",
   "metadata": {
    "deletable": true,
    "editable": true
   },
   "source": [
    "Use the code cell (or multiple code cells, if necessary) to implement the first step of your project."
   ]
  },
  {
   "cell_type": "code",
   "execution_count": 9,
   "metadata": {
    "collapsed": true,
    "deletable": true,
    "editable": true
   },
   "outputs": [],
   "source": [
    "# Normalize data similar to the tensorflow per_image_normalization function\n",
    "def NormalizeImages(x):\n",
    "    x_normalized = []\n",
    "    for i in range(len(x)):\n",
    "        x_normalized.append((x[i] - np.mean(x[i])) / np.std(x[i]))\n",
    "        \n",
    "    return x_normalized"
   ]
  },
  {
   "cell_type": "code",
   "execution_count": 10,
   "metadata": {
    "collapsed": false,
    "deletable": true,
    "editable": true,
    "scrolled": true
   },
   "outputs": [],
   "source": [
    "### Preprocess the data here. Preprocessing steps could include normalization, converting to grayscale, etc.\n",
    "### Feel free to use as many code cells as needed.\n",
    "X_transformedTrain, Y_transformedTrain = shuffle(X_transformedTrain, Y_transformedTrain)\n",
    "\n",
    "X_train_Normalized = NormalizeImages(X_transformedTrain)\n",
    "\n",
    "X_test_Normalized = NormalizeImages(X_test)\n",
    "    \n",
    "X_validation_Normalized = NormalizeImages(X_validation)"
   ]
  },
  {
   "cell_type": "markdown",
   "metadata": {
    "deletable": true,
    "editable": true
   },
   "source": [
    "### Model Architecture"
   ]
  },
  {
   "cell_type": "code",
   "execution_count": 11,
   "metadata": {
    "collapsed": true,
    "deletable": true,
    "editable": true
   },
   "outputs": [],
   "source": [
    "### Define your architecture here.\n",
    "### Feel free to use as many code cells as needed.\n",
    "def LeNet(x):    \n",
    "    # Arguments used for tf.truncated_normal, randomly defines variables for the weights and biases for each layer\n",
    "    mu = 0\n",
    "    sigma = 0.1\n",
    "    \n",
    "    # SOLUTION: Layer 1: Convolutional. Input = 32x32x3. Output = 28x28x6.\n",
    "    conv1_W = tf.Variable(tf.truncated_normal(shape=(5, 5, 3, 6), mean = mu, stddev = sigma))\n",
    "    conv1_b = tf.Variable(tf.zeros(6))\n",
    "    conv1   = tf.nn.conv2d(x, conv1_W, strides=[1, 1, 1, 1], padding='VALID', name='conv1') + conv1_b\n",
    "\n",
    "    # SOLUTION: Activation.\n",
    "    conv1 = tf.nn.relu(conv1)\n",
    "\n",
    "    # SOLUTION: Pooling. Input = 28x28x6. Output = 14x14x6.\n",
    "    conv1 = tf.nn.max_pool(conv1, ksize=[1, 2, 2, 1], strides=[1, 2, 2, 1], padding='VALID', name='maxpool1')\n",
    "\n",
    "    # SOLUTION: Layer 2: Convolutional. Output = 10x10x16.\n",
    "    conv2_W = tf.Variable(tf.truncated_normal(shape=(5, 5, 6, 16), mean = mu, stddev = sigma))\n",
    "    conv2_b = tf.Variable(tf.zeros(16))\n",
    "    conv2   = tf.nn.conv2d(conv1, conv2_W, strides=[1, 1, 1, 1], padding='VALID', name='conv2') + conv2_b\n",
    "    \n",
    "    # SOLUTION: Activation.\n",
    "    conv2 = tf.nn.relu(conv2)\n",
    "\n",
    "    # SOLUTION: Pooling. Input = 10x10x16. Output = 5x5x16.\n",
    "    conv2 = tf.nn.max_pool(conv2, ksize=[1, 2, 2, 1], strides=[1, 2, 2, 1], padding='VALID', name='maxpool2')\n",
    "\n",
    "    # SOLUTION: Flatten. Input = 5x5x16. Output = 400.\n",
    "    fc0   = flatten(conv2)\n",
    "    \n",
    "    # SOLUTION: Layer 3: Fully Connected. Input = 400. Output = 120.\n",
    "    fc1_W = tf.Variable(tf.truncated_normal(shape=(400, 120), mean = mu, stddev = sigma))\n",
    "    fc1_b = tf.Variable(tf.zeros(120))\n",
    "    fc1   = tf.matmul(fc0, fc1_W) + fc1_b\n",
    "    \n",
    "    # SOLUTION: Activation.\n",
    "    fc1    = tf.nn.relu(fc1, name='fc1')\n",
    "    \n",
    "    # Drop out 1\n",
    "    do0    = tf.nn.dropout(fc1, keep_prob)\n",
    "\n",
    "    # SOLUTION: Layer 4: Fully Connected. Input = 120. Output = 84.\n",
    "    fc2_W  = tf.Variable(tf.truncated_normal(shape=(120, 84), mean = mu, stddev = sigma))\n",
    "    fc2_b  = tf.Variable(tf.zeros(84))\n",
    "    fc2    = tf.matmul(do0, fc2_W, name='fc2') + fc2_b\n",
    "    \n",
    "    # SOLUTION: Activation.\n",
    "    fc2    = tf.nn.relu(fc2)\n",
    "    \n",
    "    # Drop out 2\n",
    "    do1    = tf.nn.dropout(fc2, keep_prob)\n",
    "\n",
    "    # SOLUTION: Layer 5: Fully Connected. Input = 84. Output = 43.\n",
    "    fc3_W  = tf.Variable(tf.truncated_normal(shape=(84, n_classes), mean = mu, stddev = sigma))\n",
    "    fc3_b  = tf.Variable(tf.zeros(n_classes))\n",
    "    logits = tf.matmul(do1, fc3_W, name='fc3') + fc3_b\n",
    "    \n",
    "    return logits"
   ]
  },
  {
   "cell_type": "markdown",
   "metadata": {
    "deletable": true,
    "editable": true
   },
   "source": [
    "### Train, Validate and Test the Model"
   ]
  },
  {
   "cell_type": "markdown",
   "metadata": {
    "deletable": true,
    "editable": true
   },
   "source": [
    "A validation set can be used to assess how well the model is performing. A low accuracy on the training and validation\n",
    "sets imply underfitting. A high accuracy on the training set but low accuracy on the validation set implies overfitting."
   ]
  },
  {
   "cell_type": "code",
   "execution_count": 12,
   "metadata": {
    "collapsed": true,
    "deletable": true,
    "editable": true
   },
   "outputs": [],
   "source": [
    "### Train your model here.\n",
    "### Calculate and report the accuracy on the training and validation set.\n",
    "### Once a final model architecture is selected, \n",
    "### the accuracy on the test set should be calculated and reported as well.\n",
    "### Feel free to use as many code cells as needed."
   ]
  },
  {
   "cell_type": "code",
   "execution_count": 13,
   "metadata": {
    "collapsed": true,
    "deletable": true,
    "editable": true
   },
   "outputs": [],
   "source": [
    "EPOCHS = 60\n",
    "BATCH_SIZE = 128"
   ]
  },
  {
   "cell_type": "code",
   "execution_count": 14,
   "metadata": {
    "collapsed": false,
    "deletable": true,
    "editable": true
   },
   "outputs": [],
   "source": [
    "x = tf.placeholder(tf.float32, (None, 32, 32, 3))\n",
    "y = tf.placeholder(tf.int32, (None))\n",
    "one_hot_y = tf.one_hot(y, 43)\n",
    "keep_prob = tf.placeholder(tf.float32)"
   ]
  },
  {
   "cell_type": "code",
   "execution_count": 15,
   "metadata": {
    "collapsed": false,
    "deletable": true,
    "editable": true
   },
   "outputs": [],
   "source": [
    "rate = 0.0009\n",
    "\n",
    "logits = LeNet(x)\n",
    "cross_entropy = tf.nn.softmax_cross_entropy_with_logits( logits=logits, labels=one_hot_y)\n",
    "loss_operation = tf.reduce_mean(cross_entropy)\n",
    "optimizer = tf.train.AdamOptimizer(learning_rate = rate)\n",
    "training_operation = optimizer.minimize(loss_operation)\n",
    "validation_operation = optimizer.minimize(loss_operation)"
   ]
  },
  {
   "cell_type": "code",
   "execution_count": 16,
   "metadata": {
    "collapsed": true,
    "deletable": true,
    "editable": true
   },
   "outputs": [],
   "source": [
    "correct_prediction = tf.equal(tf.argmax(logits, 1), tf.argmax(one_hot_y, 1))\n",
    "accuracy_operation = tf.reduce_mean(tf.cast(correct_prediction, tf.float32))\n",
    "saver = tf.train.Saver()\n",
    "\n",
    "def evaluate(X_data, y_data):\n",
    "    num_examples = len(X_data)\n",
    "    total_accuracy = 0\n",
    "    sess = tf.get_default_session()\n",
    "    for offset in range(0, num_examples, BATCH_SIZE):\n",
    "        batch_x, batch_y = X_data[offset:offset+BATCH_SIZE], y_data[offset:offset+BATCH_SIZE]\n",
    "        accuracy = sess.run(accuracy_operation, feed_dict={x: batch_x, y: batch_y, keep_prob: 1})\n",
    "        total_accuracy += (accuracy * len(batch_x))\n",
    "    return total_accuracy / num_examples"
   ]
  },
  {
   "cell_type": "code",
   "execution_count": 17,
   "metadata": {
    "collapsed": false,
    "deletable": true,
    "editable": true,
    "scrolled": true
   },
   "outputs": [
    {
     "name": "stdout",
     "output_type": "stream",
     "text": [
      "Training...\n",
      "\n",
      "EPOCH 1 ...\n",
      "Training Accuracy = 0.670, Validation Accuracy = 0.656\n",
      "\n",
      "EPOCH 2 ...\n",
      "Training Accuracy = 0.834, Validation Accuracy = 0.805\n",
      "\n",
      "EPOCH 3 ...\n",
      "Training Accuracy = 0.905, Validation Accuracy = 0.877\n",
      "\n",
      "EPOCH 4 ...\n",
      "Training Accuracy = 0.934, Validation Accuracy = 0.893\n",
      "\n",
      "EPOCH 5 ...\n",
      "Training Accuracy = 0.950, Validation Accuracy = 0.905\n",
      "\n",
      "EPOCH 6 ...\n",
      "Training Accuracy = 0.961, Validation Accuracy = 0.925\n",
      "\n",
      "EPOCH 7 ...\n",
      "Training Accuracy = 0.966, Validation Accuracy = 0.923\n",
      "\n",
      "EPOCH 8 ...\n",
      "Training Accuracy = 0.972, Validation Accuracy = 0.936\n",
      "\n",
      "EPOCH 9 ...\n",
      "Training Accuracy = 0.979, Validation Accuracy = 0.936\n",
      "\n",
      "EPOCH 10 ...\n",
      "Training Accuracy = 0.979, Validation Accuracy = 0.936\n",
      "\n",
      "EPOCH 11 ...\n",
      "Training Accuracy = 0.980, Validation Accuracy = 0.930\n",
      "\n",
      "EPOCH 12 ...\n",
      "Training Accuracy = 0.983, Validation Accuracy = 0.937\n",
      "\n",
      "EPOCH 13 ...\n",
      "Training Accuracy = 0.985, Validation Accuracy = 0.937\n",
      "\n",
      "EPOCH 14 ...\n",
      "Training Accuracy = 0.984, Validation Accuracy = 0.940\n",
      "\n",
      "EPOCH 15 ...\n",
      "Training Accuracy = 0.987, Validation Accuracy = 0.951\n",
      "\n",
      "EPOCH 16 ...\n",
      "Training Accuracy = 0.987, Validation Accuracy = 0.937\n",
      "\n",
      "EPOCH 17 ...\n",
      "Training Accuracy = 0.988, Validation Accuracy = 0.946\n",
      "\n",
      "EPOCH 18 ...\n",
      "Training Accuracy = 0.988, Validation Accuracy = 0.949\n",
      "\n",
      "EPOCH 19 ...\n",
      "Training Accuracy = 0.990, Validation Accuracy = 0.944\n",
      "\n",
      "EPOCH 20 ...\n",
      "Training Accuracy = 0.991, Validation Accuracy = 0.947\n",
      "\n",
      "EPOCH 21 ...\n",
      "Training Accuracy = 0.992, Validation Accuracy = 0.946\n",
      "\n",
      "EPOCH 22 ...\n",
      "Training Accuracy = 0.992, Validation Accuracy = 0.941\n",
      "\n",
      "EPOCH 23 ...\n",
      "Training Accuracy = 0.993, Validation Accuracy = 0.946\n",
      "\n",
      "EPOCH 24 ...\n",
      "Training Accuracy = 0.993, Validation Accuracy = 0.946\n",
      "\n",
      "EPOCH 25 ...\n",
      "Training Accuracy = 0.993, Validation Accuracy = 0.945\n",
      "\n",
      "EPOCH 26 ...\n",
      "Training Accuracy = 0.994, Validation Accuracy = 0.946\n",
      "\n",
      "EPOCH 27 ...\n",
      "Training Accuracy = 0.994, Validation Accuracy = 0.947\n",
      "\n",
      "EPOCH 28 ...\n",
      "Training Accuracy = 0.993, Validation Accuracy = 0.945\n",
      "\n",
      "EPOCH 29 ...\n",
      "Training Accuracy = 0.994, Validation Accuracy = 0.953\n",
      "\n",
      "EPOCH 30 ...\n",
      "Training Accuracy = 0.995, Validation Accuracy = 0.954\n",
      "\n",
      "EPOCH 31 ...\n",
      "Training Accuracy = 0.994, Validation Accuracy = 0.951\n",
      "\n",
      "EPOCH 32 ...\n",
      "Training Accuracy = 0.996, Validation Accuracy = 0.957\n",
      "\n",
      "EPOCH 33 ...\n",
      "Training Accuracy = 0.996, Validation Accuracy = 0.954\n",
      "\n",
      "EPOCH 34 ...\n",
      "Training Accuracy = 0.996, Validation Accuracy = 0.945\n",
      "\n",
      "EPOCH 35 ...\n",
      "Training Accuracy = 0.996, Validation Accuracy = 0.947\n",
      "\n",
      "EPOCH 36 ...\n",
      "Training Accuracy = 0.996, Validation Accuracy = 0.951\n",
      "\n",
      "EPOCH 37 ...\n",
      "Training Accuracy = 0.995, Validation Accuracy = 0.950\n",
      "\n",
      "EPOCH 38 ...\n",
      "Training Accuracy = 0.996, Validation Accuracy = 0.951\n",
      "\n",
      "EPOCH 39 ...\n",
      "Training Accuracy = 0.997, Validation Accuracy = 0.951\n",
      "\n",
      "EPOCH 40 ...\n",
      "Training Accuracy = 0.996, Validation Accuracy = 0.955\n",
      "\n",
      "EPOCH 41 ...\n",
      "Training Accuracy = 0.996, Validation Accuracy = 0.951\n",
      "\n",
      "EPOCH 42 ...\n",
      "Training Accuracy = 0.997, Validation Accuracy = 0.956\n",
      "\n",
      "EPOCH 43 ...\n",
      "Training Accuracy = 0.996, Validation Accuracy = 0.951\n",
      "\n",
      "EPOCH 44 ...\n",
      "Training Accuracy = 0.997, Validation Accuracy = 0.958\n",
      "\n",
      "EPOCH 45 ...\n",
      "Training Accuracy = 0.996, Validation Accuracy = 0.946\n",
      "\n",
      "EPOCH 46 ...\n",
      "Training Accuracy = 0.997, Validation Accuracy = 0.956\n",
      "\n",
      "EPOCH 47 ...\n",
      "Training Accuracy = 0.997, Validation Accuracy = 0.949\n",
      "\n",
      "EPOCH 48 ...\n",
      "Training Accuracy = 0.996, Validation Accuracy = 0.939\n",
      "\n",
      "EPOCH 49 ...\n",
      "Training Accuracy = 0.997, Validation Accuracy = 0.949\n",
      "\n",
      "EPOCH 50 ...\n",
      "Training Accuracy = 0.997, Validation Accuracy = 0.948\n",
      "\n",
      "EPOCH 51 ...\n",
      "Training Accuracy = 0.997, Validation Accuracy = 0.955\n",
      "\n",
      "EPOCH 52 ...\n",
      "Training Accuracy = 0.998, Validation Accuracy = 0.957\n",
      "\n",
      "EPOCH 53 ...\n",
      "Training Accuracy = 0.998, Validation Accuracy = 0.952\n",
      "\n",
      "EPOCH 54 ...\n",
      "Training Accuracy = 0.997, Validation Accuracy = 0.951\n",
      "\n",
      "EPOCH 55 ...\n",
      "Training Accuracy = 0.998, Validation Accuracy = 0.946\n",
      "\n",
      "EPOCH 56 ...\n",
      "Training Accuracy = 0.998, Validation Accuracy = 0.955\n",
      "\n",
      "EPOCH 57 ...\n",
      "Training Accuracy = 0.997, Validation Accuracy = 0.961\n",
      "\n",
      "EPOCH 58 ...\n",
      "Training Accuracy = 0.998, Validation Accuracy = 0.959\n",
      "\n",
      "EPOCH 59 ...\n",
      "Training Accuracy = 0.998, Validation Accuracy = 0.955\n",
      "\n",
      "EPOCH 60 ...\n",
      "Training Accuracy = 0.998, Validation Accuracy = 0.951\n",
      "\n",
      "Model saved\n"
     ]
    }
   ],
   "source": [
    "with tf.Session() as sess:\n",
    "    sess.run(tf.global_variables_initializer())\n",
    "    num_examples = len(X_train)\n",
    "    \n",
    "    print(\"Training...\")\n",
    "    print()\n",
    "    for i in range(EPOCHS):\n",
    "        for offset in range(0, num_examples, BATCH_SIZE):\n",
    "            X_train_Normalized, Y_transformedTrain = shuffle(X_train_Normalized, Y_transformedTrain)\n",
    "            end = offset + BATCH_SIZE\n",
    "            batch_x, batch_y = X_train_Normalized[offset:end], Y_transformedTrain[offset:end]\n",
    "            sess.run(training_operation, feed_dict={x: batch_x, y: batch_y, keep_prob: 0.5})\n",
    "        \n",
    "        training_accuracy = evaluate(X_train_Normalized, Y_transformedTrain)\n",
    "        \n",
    "        validation_accuracy = evaluate(X_validation_Normalized, y_validation)\n",
    "        print(\"EPOCH {} ...\".format(i+1))\n",
    "        print(\"Training Accuracy = {:.3f}, Validation Accuracy = {:.3f}\".format(training_accuracy, validation_accuracy))\n",
    "        print()\n",
    "\n",
    "    saver.save(sess, './lenet')\n",
    "    print(\"Model saved\")"
   ]
  },
  {
   "cell_type": "markdown",
   "metadata": {
    "deletable": true,
    "editable": true
   },
   "source": [
    "### Evaluate the Model"
   ]
  },
  {
   "cell_type": "code",
   "execution_count": 18,
   "metadata": {
    "collapsed": false,
    "deletable": true,
    "editable": true
   },
   "outputs": [
    {
     "name": "stdout",
     "output_type": "stream",
     "text": [
      "Test Accuracy = 0.947\n"
     ]
    }
   ],
   "source": [
    "with tf.Session() as sess:\n",
    "    saver.restore(sess, tf.train.latest_checkpoint('.'))\n",
    "\n",
    "    test_accuracy = evaluate(X_test_Normalized, y_test)\n",
    "    print(\"Test Accuracy = {:.3f}\".format(test_accuracy))"
   ]
  },
  {
   "cell_type": "markdown",
   "metadata": {
    "deletable": true,
    "editable": true
   },
   "source": [
    "---\n",
    "\n",
    "## Step 3: Test a Model on New Images\n",
    "\n",
    "To give yourself more insight into how your model is working, download at least five pictures of German traffic signs from the web and use your model to predict the traffic sign type.\n",
    "\n",
    "You may find `signnames.csv` useful as it contains mappings from the class id (integer) to the actual sign name."
   ]
  },
  {
   "cell_type": "markdown",
   "metadata": {
    "deletable": true,
    "editable": true
   },
   "source": [
    "### Load and Output the Images"
   ]
  },
  {
   "cell_type": "code",
   "execution_count": 19,
   "metadata": {
    "collapsed": true,
    "deletable": true,
    "editable": true
   },
   "outputs": [],
   "source": [
    "### Load the images and plot them here.\n",
    "### Feel free to use as many code cells as needed."
   ]
  },
  {
   "cell_type": "code",
   "execution_count": 47,
   "metadata": {
    "collapsed": false,
    "deletable": true,
    "editable": true,
    "scrolled": true
   },
   "outputs": [
    {
     "name": "stdout",
     "output_type": "stream",
     "text": [
      "(32, 32, 3)\n",
      "uint8\n",
      "(32, 32, 3)\n",
      "uint8\n",
      "(32, 32, 3)\n",
      "uint8\n",
      "(32, 32, 3)\n",
      "uint8\n",
      "(32, 32, 3)\n",
      "uint8\n"
     ]
    }
   ],
   "source": [
    "images = []\n",
    "\n",
    "for image_path in glob.glob(\"German_Traffic_Sign_Images/*.jpg\"):\n",
    "    image = mpimg.imread(image_path)\n",
    "    \n",
    "    # Scale to 32 by 32\n",
    "    image = cv2.resize(image,None,fx=32/image.shape[1], fy=32/image.shape[0], interpolation = cv2.INTER_CUBIC)\n",
    "    \n",
    "    images.append(image)\n",
    "    \n",
    "    print(image.shape)\n",
    "    print(image.dtype)\n",
    "    \n",
    "images_Normalized = NormalizeImages(images)"
   ]
  },
  {
   "cell_type": "markdown",
   "metadata": {
    "deletable": true,
    "editable": true
   },
   "source": [
    "### Using the `signnames.csv' to construct y"
   ]
  },
  {
   "cell_type": "code",
   "execution_count": 21,
   "metadata": {
    "collapsed": false,
    "deletable": true,
    "editable": true
   },
   "outputs": [],
   "source": [
    "images_class = np.array([22, 27, 25, 4, 14])"
   ]
  },
  {
   "cell_type": "markdown",
   "metadata": {},
   "source": [
    "### Visualise Images from the Web"
   ]
  },
  {
   "cell_type": "code",
   "execution_count": 45,
   "metadata": {
    "collapsed": false,
    "deletable": true,
    "editable": true
   },
   "outputs": [
    {
     "data": {
      "image/png": "[encoded data removed]",
      "text/plain": [
       "<matplotlib.figure.Figure at 0x1e19a902a90>"
      ]
     },
     "metadata": {},
     "output_type": "display_data"
    }
   ],
   "source": [
    "# show image of 10 random data points\n",
    "fig, axs = plt.subplots(1,5, figsize=(15, 6))\n",
    "fig.subplots_adjust(hspace = 1, wspace=0.2)\n",
    "axs = axs.ravel()\n",
    "for i in range(len(images)):\n",
    "    axs[i].imshow(images[i])\n",
    "    axs[i].set_title(images_class[i])"
   ]
  },
  {
   "cell_type": "markdown",
   "metadata": {
    "deletable": true,
    "editable": true
   },
   "source": [
    "### Predict the Sign Type for Each Image"
   ]
  },
  {
   "cell_type": "code",
   "execution_count": 22,
   "metadata": {
    "collapsed": false,
    "deletable": true,
    "editable": true
   },
   "outputs": [
    {
     "name": "stdout",
     "output_type": "stream",
     "text": [
      "[22 27 25  4 14]\n",
      "[22 27 25 25 14]\n"
     ]
    }
   ],
   "source": [
    "### Run the predictions here and use the model to output the prediction for each image.\n",
    "### Make sure to pre-process the images with the same pre-processing pipeline used earlier.\n",
    "### Feel free to use as many code cells as needed.\n",
    "predicted_labels = tf.argmax(logits, 1)\n",
    "\n",
    "# Run the \"predicted_labels\" op.\n",
    "with tf.Session() as sess:\n",
    "    saver.restore(sess, './lenet')\n",
    "    predicted = sess.run(predicted_labels, feed_dict={x: images_Normalized, keep_prob: 1})\n",
    "\n",
    "print(images_class)\n",
    "print(predicted)"
   ]
  },
  {
   "cell_type": "markdown",
   "metadata": {
    "deletable": true,
    "editable": true
   },
   "source": [
    "### Analyze Performance"
   ]
  },
  {
   "cell_type": "code",
   "execution_count": 50,
   "metadata": {
    "collapsed": false,
    "deletable": true,
    "editable": true
   },
   "outputs": [
    {
     "name": "stdout",
     "output_type": "stream",
     "text": [
      "Prediction Accuracy = 0.8\n"
     ]
    }
   ],
   "source": [
    "### Calculate the accuracy for these 5 new images. \n",
    "### For example, if the model predicted 1 out of 5 signs correctly, it's 20% accurate on these new images.\n",
    "with tf.Session() as sess:\n",
    "    saver.restore(sess, './lenet')\n",
    "    test_images_accuracy = evaluate(images_Normalized, images_class)\n",
    "    \n",
    "print(\"Prediction Accuracy = {:.1f}\".format(test_images_accuracy))"
   ]
  },
  {
   "cell_type": "markdown",
   "metadata": {
    "deletable": true,
    "editable": true
   },
   "source": [
    "### Output Top 5 Softmax Probabilities For Each Image Found on the Web"
   ]
  },
  {
   "cell_type": "markdown",
   "metadata": {
    "deletable": true,
    "editable": true
   },
   "source": [
    "For each of the new images, print out the model's softmax probabilities to show the **certainty** of the model's predictions (limit the output to the top 5 probabilities for each image). [`tf.nn.top_k`](https://www.tensorflow.org/versions/r0.12/api_docs/python/nn.html#top_k) could prove helpful here. \n",
    "\n",
    "The example below demonstrates how tf.nn.top_k can be used to find the top k predictions for each image.\n",
    "\n",
    "`tf.nn.top_k` will return the values and indices (class ids) of the top k predictions. So if k=3, for each sign, it'll return the 3 largest probabilities (out of a possible 43) and the correspoding class ids.\n",
    "\n",
    "Take this numpy array as an example. The values in the array represent predictions. The array contains softmax probabilities for five candidate images with six possible classes. `tk.nn.top_k` is used to choose the three classes with the highest probability:\n",
    "\n",
    "```\n",
    "# (5, 6) array\n",
    "a = np.array([[ 0.24879643,  0.07032244,  0.12641572,  0.34763842,  0.07893497,\n",
    "         0.12789202],\n",
    "       [ 0.28086119,  0.27569815,  0.08594638,  0.0178669 ,  0.18063401,\n",
    "         0.15899337],\n",
    "       [ 0.26076848,  0.23664738,  0.08020603,  0.07001922,  0.1134371 ,\n",
    "         0.23892179],\n",
    "       [ 0.11943333,  0.29198961,  0.02605103,  0.26234032,  0.1351348 ,\n",
    "         0.16505091],\n",
    "       [ 0.09561176,  0.34396535,  0.0643941 ,  0.16240774,  0.24206137,\n",
    "         0.09155967]])\n",
    "```\n",
    "\n",
    "Running it through `sess.run(tf.nn.top_k(tf.constant(a), k=3))` produces:\n",
    "\n",
    "```\n",
    "TopKV2(values=array([[ 0.34763842,  0.24879643,  0.12789202],\n",
    "       [ 0.28086119,  0.27569815,  0.18063401],\n",
    "       [ 0.26076848,  0.23892179,  0.23664738],\n",
    "       [ 0.29198961,  0.26234032,  0.16505091],\n",
    "       [ 0.34396535,  0.24206137,  0.16240774]]), indices=array([[3, 0, 5],\n",
    "       [0, 1, 4],\n",
    "       [0, 5, 1],\n",
    "       [1, 3, 5],\n",
    "       [1, 4, 3]], dtype=int32))\n",
    "```\n",
    "\n",
    "Looking just at the first row we get `[ 0.34763842,  0.24879643,  0.12789202]`, you can confirm these are the 3 largest probabilities in `a`. You'll also notice `[3, 0, 5]` are the corresponding indices."
   ]
  },
  {
   "cell_type": "code",
   "execution_count": 51,
   "metadata": {
    "collapsed": false,
    "deletable": true,
    "editable": true
   },
   "outputs": [
    {
     "name": "stdout",
     "output_type": "stream",
     "text": [
      "TopKV2(values=array([[  1.00000000e+00,   4.00879538e-11,   2.23628373e-11,\n",
      "          9.52599284e-12,   3.27304286e-12],\n",
      "       [  9.99995112e-01,   4.35485026e-06,   4.96887480e-07,\n",
      "          1.66025611e-08,   1.55573922e-11],\n",
      "       [  1.00000000e+00,   1.88296011e-11,   4.67016486e-16,\n",
      "          1.02947392e-17,   5.88057504e-18],\n",
      "       [  5.24608433e-01,   3.50223422e-01,   6.75507337e-02,\n",
      "          5.18961661e-02,   4.98970738e-03],\n",
      "       [  1.00000000e+00,   3.67902069e-15,   2.82156291e-18,\n",
      "          1.01010085e-18,   1.05974325e-20]], dtype=float32), indices=array([[22, 20, 38, 29, 26],\n",
      "       [27, 11, 18, 26, 28],\n",
      "       [25, 22, 29, 30, 31],\n",
      "       [25,  1,  0,  4,  2],\n",
      "       [14, 17, 26, 29, 13]]))\n"
     ]
    }
   ],
   "source": [
    "### Print out the top five softmax probabilities for the predictions on the German traffic sign images found on the web. \n",
    "### Feel free to use as many code cells as needed.\n",
    "with tf.Session() as sess:\n",
    "    saver.restore(sess, './lenet')\n",
    "    \n",
    "    softmax_results = sess.run(tf.nn.softmax(logits), feed_dict={x: images_Normalized, keep_prob: 1})\n",
    "    top5softmax = sess.run(tf.nn.top_k(softmax_results, k=5))\n",
    "    \n",
    "print(top5softmax)"
   ]
  },
  {
   "cell_type": "markdown",
   "metadata": {
    "deletable": true,
    "editable": true
   },
   "source": [
    "---\n",
    "\n",
    "## Step 4: Visualize the Neural Network's State with Test Images\n",
    "\n",
    " This Section is not required to complete but acts as an additional excersise for understaning the output of a neural network's weights. While neural networks can be a great learning device they are often referred to as a black box. We can understand what the weights of a neural network look like better by plotting their feature maps. After successfully training your neural network you can see what it's feature maps look like by plotting the output of the network's weight layers in response to a test stimuli image. From these plotted feature maps, it's possible to see what characteristics of an image the network finds interesting. For a sign, maybe the inner network feature maps react with high activation to the sign's boundary outline or to the contrast in the sign's painted symbol.\n",
    "\n",
    " Provided for you below is the function code that allows you to get the visualization output of any tensorflow weight layer you want. The inputs to the function should be a stimuli image, one used during training or a new one you provided, and then the tensorflow variable name that represents the layer's state during the training process, for instance if you wanted to see what the [LeNet lab's](https://classroom.udacity.com/nanodegrees/nd013/parts/fbf77062-5703-404e-b60c-95b78b2f3f9e/modules/6df7ae49-c61c-4bb2-a23e-6527e69209ec/lessons/601ae704-1035-4287-8b11-e2c2716217ad/concepts/d4aca031-508f-4e0b-b493-e7b706120f81) feature maps looked like for it's second convolutional layer you could enter conv2 as the tf_activation variable.\n",
    "\n",
    "For an example of what feature map outputs look like, check out NVIDIA's results in their paper [End-to-End Deep Learning for Self-Driving Cars](https://devblogs.nvidia.com/parallelforall/deep-learning-self-driving-cars/) in the section Visualization of internal CNN State. NVIDIA was able to show that their network's inner weights had high activations to road boundary lines by comparing feature maps from an image with a clear path to one without. Try experimenting with a similar test to show that your trained network's weights are looking for interesting features, whether it's looking at differences in feature maps from images with or without a sign, or even what feature maps look like in a trained network vs a completely untrained one on the same sign image.\n",
    "\n",
    "<figure>\n",
    " <img src=\"visualize_cnn.png\" width=\"380\" alt=\"Combined Image\" />\n",
    " <figcaption>\n",
    " <p></p> \n",
    " <p style=\"text-align: center;\"> Your output should look something like this (above)</p> \n",
    " </figcaption>\n",
    "</figure>\n",
    " <p></p> \n"
   ]
  },
  {
   "cell_type": "code",
   "execution_count": 25,
   "metadata": {
    "collapsed": true,
    "deletable": true,
    "editable": true
   },
   "outputs": [],
   "source": [
    "### Visualize your network's feature maps here.\n",
    "### Feel free to use as many code cells as needed.\n",
    "\n",
    "# image_input: the test image being fed into the network to produce the feature maps\n",
    "# tf_activation: should be a tf variable name used during your training procedure that represents the calculated state of a specific weight layer\n",
    "# activation_min/max: can be used to view the activation contrast in more detail, by default matplot sets min and max to the actual min and max values of the output\n",
    "# plt_num: used to plot out multiple different weight feature map sets on the same block, just extend the plt number for each new feature map entry\n",
    "\n",
    "def outputFeatureMap(image_input, tf_activation, activation_min=-1, activation_max=-1 ,plt_num=1):\n",
    "    # Here make sure to preprocess your image_input in a way your network expects\n",
    "    # with size, normalization, ect if needed\n",
    "    # image_input =\n",
    "    # Note: x should be the same name as your network's tensorflow data placeholder variable\n",
    "    # If you get an error tf_activation is not defined it maybe having trouble accessing the variable from inside a function\n",
    "    activation = tf_activation.eval(session=sess,feed_dict={x : image_input})\n",
    "    featuremaps = activation.shape[3]\n",
    "    plt.figure(plt_num, figsize=(15,15))\n",
    "    for featuremap in range(featuremaps):\n",
    "        plt.subplot(6,8, featuremap+1) # sets the number of feature maps to show on each row and column\n",
    "        plt.title('FeatureMap ' + str(featuremap)) # displays the feature map number\n",
    "        if activation_min != -1 & activation_max != -1:\n",
    "            plt.imshow(activation[0,:,:, featuremap], interpolation=\"nearest\", vmin =activation_min, vmax=activation_max, cmap=\"gray\")\n",
    "        elif activation_max != -1:\n",
    "            plt.imshow(activation[0,:,:, featuremap], interpolation=\"nearest\", vmax=activation_max, cmap=\"gray\")\n",
    "        elif activation_min !=-1:\n",
    "            plt.imshow(activation[0,:,:, featuremap], interpolation=\"nearest\", vmin=activation_min, cmap=\"gray\")\n",
    "        else:\n",
    "            plt.imshow(activation[0,:,:, featuremap], interpolation=\"nearest\", cmap=\"gray\")"
   ]
  },
  {
   "cell_type": "code",
   "execution_count": 55,
   "metadata": {
    "collapsed": false,
    "deletable": true,
    "editable": true,
    "scrolled": true
   },
   "outputs": [
    {
     "data": {
      "image/png": "[encoded data removed]",
      "text/plain": [
       "<matplotlib.figure.Figure at 0x1e19e5dc1d0>"
      ]
     },
     "metadata": {},
     "output_type": "display_data"
    }
   ],
   "source": [
    "with tf.Session() as sess:\n",
    "    saver.restore(sess, tf.train.latest_checkpoint('.'))\n",
    "    conv_layer_1 = sess.graph.get_tensor_by_name('conv1:0')\n",
    "    outputFeatureMap([images_Normalized[3]], conv_layer_1)"
   ]
  },
  {
   "cell_type": "code",
   "execution_count": 57,
   "metadata": {
    "collapsed": false
   },
   "outputs": [
    {
     "data": {
      "image/png": "[encoded data removed]",
      "text/plain": [
       "<matplotlib.figure.Figure at 0x1e1b98d0e48>"
      ]
     },
     "metadata": {},
     "output_type": "display_data"
    }
   ],
   "source": [
    "with tf.Session() as sess:\n",
    "    saver.restore(sess, tf.train.latest_checkpoint('.'))\n",
    "    max_pool_1 = sess.graph.get_tensor_by_name('maxpool1:0')\n",
    "    outputFeatureMap([images_Normalized[3]], max_pool_1)"
   ]
  },
  {
   "cell_type": "code",
   "execution_count": 56,
   "metadata": {
    "collapsed": false,
    "scrolled": true
   },
   "outputs": [
    {
     "data": {
      "image/png": "[encoded data removed]",
      "text/plain": [
       "<matplotlib.figure.Figure at 0x1e19abd4128>"
      ]
     },
     "metadata": {},
     "output_type": "display_data"
    }
   ],
   "source": [
    "with tf.Session() as sess:\n",
    "    saver.restore(sess, tf.train.latest_checkpoint('.'))\n",
    "    conv_layer_2 = sess.graph.get_tensor_by_name('conv2:0')\n",
    "    outputFeatureMap([images_Normalized[3]], conv_layer_2)"
   ]
  },
  {
   "cell_type": "code",
   "execution_count": 59,
   "metadata": {
    "collapsed": false
   },
   "outputs": [
    {
     "data": {
      "image/png": "[encoded data removed]",
      "text/plain": [
       "<matplotlib.figure.Figure at 0x1e1b971b518>"
      ]
     },
     "metadata": {},
     "output_type": "display_data"
    }
   ],
   "source": [
    "with tf.Session() as sess:\n",
    "    saver.restore(sess, tf.train.latest_checkpoint('.'))\n",
    "    max_pool_2 = sess.graph.get_tensor_by_name('maxpool2:0')\n",
    "    outputFeatureMap([images_Normalized[3]], max_pool_2)"
   ]
  },
  {
   "cell_type": "markdown",
   "metadata": {
    "deletable": true,
    "editable": true
   },
   "source": [
    "### Question 9\n",
    "\n",
    "Discuss how you used the visual output of your trained network's feature maps to show that it had learned to look for interesting characteristics in traffic sign images\n"
   ]
  },
  {
   "cell_type": "markdown",
   "metadata": {
    "deletable": true,
    "editable": true
   },
   "source": [
    "**Answer:**"
   ]
  },
  {
   "cell_type": "markdown",
   "metadata": {},
   "source": [
    "Using the 70 km/hr speed sign I have downloaded from the web as an example. I have plotted feature maps from various levels to visualize the inner working of the model.\n",
    "\n",
    "It is pretty impressive looking at the first convolution layer and see the feature maps can recognise the edges of the speed sign as well as the number 70 itself.\n",
    "\n",
    "The max pooling 1 enhanced the contrast of the first convolution layer and it is clear to see the red rim of the speed sign in Feature Map 4 as well as the number 70 being recognised in Feature Map 2.\n",
    "\n",
    "It is however, rather hard to visualise at a later stage. For example at convolution layer 2 and max pooling layer 2. I can't seem to figure out what the filters have picked out from the images. Perhaps with higher pixel counts, this can be improved.\n",
    "\n",
    "As the result, I have mainly relied on visualizing the convolution layer 1 to get an understanding of how the model has recognised the edges and the symbolic patterns of street signs."
   ]
  },
  {
   "cell_type": "markdown",
   "metadata": {
    "deletable": true,
    "editable": true
   },
   "source": [
    "> **Note**: Once you have completed all of the code implementations and successfully answered each question above, you may finalize your work by exporting the iPython Notebook as an HTML document. You can do this by using the menu above and navigating to  \\n\",\n",
    "    \"**File -> Download as -> HTML (.html)**. Include the finished document along with this notebook as your submission."
   ]
  },
  {
   "cell_type": "markdown",
   "metadata": {
    "deletable": true,
    "editable": true
   },
   "source": [
    "### Project Writeup\n",
    "\n",
    "Once you have completed the code implementation, document your results in a project writeup using this [template](https://github.com/udacity/CarND-Traffic-Sign-Classifier-Project/blob/master/writeup_template.md) as a guide. The writeup can be in a markdown or pdf file. "
   ]
  }
 ],
 "metadata": {
  "anaconda-cloud": {},
  "kernelspec": {
   "display_name": "Python 3",
   "language": "python",
   "name": "python3"
  },
  "language_info": {
   "codemirror_mode": {
    "name": "ipython",
    "version": 3
   },
   "file_extension": ".py",
   "mimetype": "text/x-python",
   "name": "python",
   "nbconvert_exporter": "python",
   "pygments_lexer": "ipython3",
   "version": "3.5.2"
  },
  "widgets": {
   "state": {},
   "version": "1.1.2"
  }
 },
 "nbformat": 4,
 "nbformat_minor": 1
}
